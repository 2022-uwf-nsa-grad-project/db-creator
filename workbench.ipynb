{
 "cells": [
  {
   "cell_type": "code",
   "execution_count": 1,
   "id": "d492dd48",
   "metadata": {},
   "outputs": [
    {
     "name": "stderr",
     "output_type": "stream",
     "text": [
      "2025-09-24 14:22:17,288 - INFO - Scanning for data files in 'data'...\n",
      "2025-09-24 14:22:17,292 - WARNING - No dataframes loaded, skipping preprocessing.\n",
      "2025-09-24 14:22:17,293 - ERROR - No data to write to the database.\n"
     ]
    }
   ],
   "source": [
    "from DataETL import DataETL\n",
    "DB_FILE = \"cyber_attacks.db\"\n",
    "TABLE_NAME = \"events\"\n",
    "DATA_DIRECTORY = \"data\"\n",
    "\n",
    "etl = DataETL(directory=DATA_DIRECTORY)\n",
    "total_events = etl.run(db_path=DB_FILE, table_name=TABLE_NAME)"
   ]
  },
  {
   "cell_type": "code",
   "execution_count": null,
   "id": "eae7ca32",
   "metadata": {},
   "outputs": [],
   "source": []
  }
 ],
 "metadata": {
  "kernelspec": {
   "display_name": "Python 3",
   "language": "python",
   "name": "python3"
  },
  "language_info": {
   "codemirror_mode": {
    "name": "ipython",
    "version": 3
   },
   "file_extension": ".py",
   "mimetype": "text/x-python",
   "name": "python",
   "nbconvert_exporter": "python",
   "pygments_lexer": "ipython3",
   "version": "3.10.11"
  }
 },
 "nbformat": 4,
 "nbformat_minor": 5
}
